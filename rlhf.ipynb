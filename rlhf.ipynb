{
 "cells": [
  {
   "cell_type": "code",
   "execution_count": null,
   "id": "5c0a14ab",
   "metadata": {},
   "outputs": [],
   "source": []
  },
  {
   "cell_type": "code",
   "execution_count": 2,
   "id": "697d55b1",
   "metadata": {},
   "outputs": [
    {
     "name": "stderr",
     "output_type": "stream",
     "text": [
      "C:\\Users\\annem\\anaconda3\\lib\\site-packages\\gym\\envs\\registration.py:555: UserWarning: \u001b[33mWARN: The environment CartPole-v0 is out of date. You should consider upgrading to version `v1`.\u001b[0m\n",
      "  logger.warn(\n"
     ]
    }
   ],
   "source": [
    "import gym\n",
    "env=gym.make('CartPole-v0', render_mode='human')\n",
    "states=env.observation_space.shape[0]\n",
    "actions=env.action_space.n"
   ]
  },
  {
   "cell_type": "code",
   "execution_count": 4,
   "id": "ddf4ee2d",
   "metadata": {},
   "outputs": [
    {
     "data": {
      "text/plain": [
       "4"
      ]
     },
     "execution_count": 4,
     "metadata": {},
     "output_type": "execute_result"
    }
   ],
   "source": [
    "states"
   ]
  },
  {
   "cell_type": "code",
   "execution_count": 4,
   "id": "9a89cfc3",
   "metadata": {},
   "outputs": [
    {
     "name": "stdout",
     "output_type": "stream",
     "text": [
      "Episode:1 Score:10.0\n",
      "Episode:2 Score:14.0\n",
      "Episode:3 Score:22.0\n",
      "Episode:4 Score:25.0\n",
      "Episode:5 Score:8.0\n",
      "Episode:6 Score:12.0\n",
      "Episode:7 Score:19.0\n",
      "Episode:8 Score:26.0\n",
      "Episode:9 Score:29.0\n",
      "Episode:10 Score:25.0\n",
      "Episode:11 Score:35.0\n",
      "Episode:12 Score:28.0\n",
      "Episode:13 Score:15.0\n",
      "Episode:14 Score:17.0\n",
      "Episode:15 Score:17.0\n",
      "Episode:16 Score:27.0\n",
      "Episode:17 Score:28.0\n",
      "Episode:18 Score:12.0\n",
      "Episode:19 Score:21.0\n",
      "Episode:20 Score:16.0\n",
      "Episode:21 Score:15.0\n",
      "Episode:22 Score:41.0\n",
      "Episode:23 Score:39.0\n",
      "Episode:24 Score:16.0\n",
      "Episode:25 Score:16.0\n",
      "Episode:26 Score:32.0\n",
      "Episode:27 Score:24.0\n",
      "Episode:28 Score:19.0\n",
      "Episode:29 Score:11.0\n",
      "Episode:30 Score:24.0\n",
      "Episode:31 Score:20.0\n",
      "Episode:32 Score:25.0\n",
      "Episode:33 Score:48.0\n",
      "Episode:34 Score:24.0\n",
      "Episode:35 Score:48.0\n",
      "Episode:36 Score:19.0\n",
      "Episode:37 Score:16.0\n",
      "Episode:38 Score:40.0\n",
      "Episode:39 Score:17.0\n",
      "Episode:40 Score:32.0\n",
      "Episode:41 Score:17.0\n",
      "Episode:42 Score:12.0\n",
      "Episode:43 Score:38.0\n",
      "Episode:44 Score:56.0\n",
      "Episode:45 Score:48.0\n",
      "Episode:46 Score:18.0\n",
      "Episode:47 Score:13.0\n",
      "Episode:48 Score:11.0\n",
      "Episode:49 Score:12.0\n",
      "Episode:50 Score:16.0\n",
      "Episode:51 Score:25.0\n",
      "Episode:52 Score:20.0\n",
      "Episode:53 Score:43.0\n",
      "Episode:54 Score:26.0\n",
      "Episode:55 Score:13.0\n",
      "Episode:56 Score:22.0\n",
      "Episode:57 Score:28.0\n",
      "Episode:58 Score:35.0\n",
      "Episode:59 Score:33.0\n",
      "Episode:60 Score:24.0\n",
      "Episode:61 Score:21.0\n",
      "Episode:62 Score:17.0\n",
      "Episode:63 Score:29.0\n",
      "Episode:64 Score:17.0\n",
      "Episode:65 Score:19.0\n",
      "Episode:66 Score:15.0\n",
      "Episode:67 Score:16.0\n",
      "Episode:68 Score:20.0\n",
      "Episode:69 Score:20.0\n",
      "Episode:70 Score:19.0\n",
      "Episode:71 Score:15.0\n",
      "Episode:72 Score:10.0\n",
      "Episode:73 Score:32.0\n",
      "Episode:74 Score:11.0\n",
      "Episode:75 Score:55.0\n",
      "Episode:76 Score:21.0\n",
      "Episode:77 Score:27.0\n",
      "Episode:78 Score:12.0\n",
      "Episode:79 Score:31.0\n",
      "Episode:80 Score:20.0\n",
      "Episode:81 Score:25.0\n",
      "Episode:82 Score:13.0\n",
      "Episode:83 Score:14.0\n",
      "Episode:84 Score:22.0\n",
      "Episode:85 Score:56.0\n",
      "Episode:86 Score:12.0\n",
      "Episode:87 Score:31.0\n",
      "Episode:88 Score:17.0\n",
      "Episode:89 Score:12.0\n",
      "Episode:90 Score:16.0\n",
      "Episode:91 Score:14.0\n",
      "Episode:92 Score:29.0\n",
      "Episode:93 Score:41.0\n",
      "Episode:94 Score:21.0\n",
      "Episode:95 Score:9.0\n",
      "Episode:96 Score:74.0\n",
      "Episode:97 Score:10.0\n",
      "Episode:98 Score:9.0\n",
      "Episode:99 Score:28.0\n",
      "Episode:100 Score:19.0\n"
     ]
    }
   ],
   "source": [
    "import random\n",
    "episodes=100\n",
    "for episodes in range(1, episodes+1):\n",
    "    state=env.reset()\n",
    "    done=False\n",
    "    score=0\n",
    "    \n",
    "    while not done:\n",
    "        env.render()\n",
    "        action=random.choice([0,1])\n",
    "        n_state, reward, done, info= env.step(action)[:4]\n",
    "        score+=reward\n",
    "    print('Episode:{} Score:{}' .format(episodes, score))\n",
    "        \n",
    "        "
   ]
  },
  {
   "cell_type": "code",
   "execution_count": 2,
   "id": "f680cac0",
   "metadata": {},
   "outputs": [
    {
     "name": "stdout",
     "output_type": "stream",
     "text": [
      "Episode:1 Score:10.0\n",
      "Episode:2 Score:11.0\n",
      "Episode:3 Score:24.0\n",
      "Episode:4 Score:28.0\n",
      "Episode:5 Score:13.0\n",
      "Episode:6 Score:18.0\n",
      "Episode:7 Score:16.0\n",
      "Episode:8 Score:20.0\n",
      "Episode:9 Score:42.0\n",
      "Episode:10 Score:15.0\n",
      "Episode:11 Score:28.0\n",
      "Episode:12 Score:25.0\n",
      "Episode:13 Score:19.0\n",
      "Episode:14 Score:13.0\n",
      "Episode:15 Score:13.0\n",
      "Episode:16 Score:18.0\n",
      "Episode:17 Score:26.0\n",
      "Episode:18 Score:10.0\n",
      "Episode:19 Score:15.0\n",
      "Episode:20 Score:19.0\n",
      "Episode:21 Score:11.0\n",
      "Episode:22 Score:65.0\n",
      "Episode:23 Score:14.0\n",
      "Episode:24 Score:14.0\n",
      "Episode:25 Score:14.0\n",
      "Episode:26 Score:16.0\n",
      "Episode:27 Score:18.0\n",
      "Episode:28 Score:17.0\n",
      "Episode:29 Score:11.0\n",
      "Episode:30 Score:27.0\n",
      "Episode:31 Score:11.0\n",
      "Episode:32 Score:11.0\n",
      "Episode:33 Score:41.0\n",
      "Episode:34 Score:17.0\n",
      "Episode:35 Score:12.0\n",
      "Episode:36 Score:26.0\n",
      "Episode:37 Score:11.0\n",
      "Episode:38 Score:44.0\n",
      "Episode:39 Score:47.0\n",
      "Episode:40 Score:32.0\n",
      "Episode:41 Score:13.0\n"
     ]
    },
    {
     "ename": "KeyboardInterrupt",
     "evalue": "",
     "output_type": "error",
     "traceback": [
      "\u001b[1;31m---------------------------------------------------------------------------\u001b[0m",
      "\u001b[1;31mKeyboardInterrupt\u001b[0m                         Traceback (most recent call last)",
      "Cell \u001b[1;32mIn[2], line 13\u001b[0m\n\u001b[0;32m     10\u001b[0m score \u001b[38;5;241m=\u001b[39m \u001b[38;5;241m0\u001b[39m\n\u001b[0;32m     12\u001b[0m \u001b[38;5;28;01mwhile\u001b[39;00m \u001b[38;5;129;01mnot\u001b[39;00m done:\n\u001b[1;32m---> 13\u001b[0m     \u001b[43menv\u001b[49m\u001b[38;5;241;43m.\u001b[39;49m\u001b[43mrender\u001b[49m\u001b[43m(\u001b[49m\u001b[43m)\u001b[49m\n\u001b[0;32m     14\u001b[0m     action \u001b[38;5;241m=\u001b[39m random\u001b[38;5;241m.\u001b[39mchoice([\u001b[38;5;241m0\u001b[39m, \u001b[38;5;241m1\u001b[39m])\n\u001b[0;32m     15\u001b[0m     step_result \u001b[38;5;241m=\u001b[39m env\u001b[38;5;241m.\u001b[39mstep(action)\n",
      "File \u001b[1;32m~\\anaconda3\\lib\\site-packages\\gym\\core.py:329\u001b[0m, in \u001b[0;36mWrapper.render\u001b[1;34m(self, *args, **kwargs)\u001b[0m\n\u001b[0;32m    325\u001b[0m \u001b[38;5;28;01mdef\u001b[39;00m \u001b[38;5;21mrender\u001b[39m(\n\u001b[0;32m    326\u001b[0m     \u001b[38;5;28mself\u001b[39m, \u001b[38;5;241m*\u001b[39margs, \u001b[38;5;241m*\u001b[39m\u001b[38;5;241m*\u001b[39mkwargs\n\u001b[0;32m    327\u001b[0m ) \u001b[38;5;241m-\u001b[39m\u001b[38;5;241m>\u001b[39m Optional[Union[RenderFrame, List[RenderFrame]]]:\n\u001b[0;32m    328\u001b[0m     \u001b[38;5;124;03m\"\"\"Renders the environment.\"\"\"\u001b[39;00m\n\u001b[1;32m--> 329\u001b[0m     \u001b[38;5;28;01mreturn\u001b[39;00m \u001b[38;5;28mself\u001b[39m\u001b[38;5;241m.\u001b[39menv\u001b[38;5;241m.\u001b[39mrender(\u001b[38;5;241m*\u001b[39margs, \u001b[38;5;241m*\u001b[39m\u001b[38;5;241m*\u001b[39mkwargs)\n",
      "File \u001b[1;32m~\\anaconda3\\lib\\site-packages\\gym\\wrappers\\order_enforcing.py:51\u001b[0m, in \u001b[0;36mOrderEnforcing.render\u001b[1;34m(self, *args, **kwargs)\u001b[0m\n\u001b[0;32m     46\u001b[0m \u001b[38;5;28;01mif\u001b[39;00m \u001b[38;5;129;01mnot\u001b[39;00m \u001b[38;5;28mself\u001b[39m\u001b[38;5;241m.\u001b[39m_disable_render_order_enforcing \u001b[38;5;129;01mand\u001b[39;00m \u001b[38;5;129;01mnot\u001b[39;00m \u001b[38;5;28mself\u001b[39m\u001b[38;5;241m.\u001b[39m_has_reset:\n\u001b[0;32m     47\u001b[0m     \u001b[38;5;28;01mraise\u001b[39;00m ResetNeeded(\n\u001b[0;32m     48\u001b[0m         \u001b[38;5;124m\"\u001b[39m\u001b[38;5;124mCannot call `env.render()` before calling `env.reset()`, if this is a intended action, \u001b[39m\u001b[38;5;124m\"\u001b[39m\n\u001b[0;32m     49\u001b[0m         \u001b[38;5;124m\"\u001b[39m\u001b[38;5;124mset `disable_render_order_enforcing=True` on the OrderEnforcer wrapper.\u001b[39m\u001b[38;5;124m\"\u001b[39m\n\u001b[0;32m     50\u001b[0m     )\n\u001b[1;32m---> 51\u001b[0m \u001b[38;5;28;01mreturn\u001b[39;00m \u001b[38;5;28mself\u001b[39m\u001b[38;5;241m.\u001b[39menv\u001b[38;5;241m.\u001b[39mrender(\u001b[38;5;241m*\u001b[39margs, \u001b[38;5;241m*\u001b[39m\u001b[38;5;241m*\u001b[39mkwargs)\n",
      "File \u001b[1;32m~\\anaconda3\\lib\\site-packages\\gym\\wrappers\\env_checker.py:55\u001b[0m, in \u001b[0;36mPassiveEnvChecker.render\u001b[1;34m(self, *args, **kwargs)\u001b[0m\n\u001b[0;32m     53\u001b[0m     \u001b[38;5;28;01mreturn\u001b[39;00m env_render_passive_checker(\u001b[38;5;28mself\u001b[39m\u001b[38;5;241m.\u001b[39menv, \u001b[38;5;241m*\u001b[39margs, \u001b[38;5;241m*\u001b[39m\u001b[38;5;241m*\u001b[39mkwargs)\n\u001b[0;32m     54\u001b[0m \u001b[38;5;28;01melse\u001b[39;00m:\n\u001b[1;32m---> 55\u001b[0m     \u001b[38;5;28;01mreturn\u001b[39;00m \u001b[38;5;28mself\u001b[39m\u001b[38;5;241m.\u001b[39menv\u001b[38;5;241m.\u001b[39mrender(\u001b[38;5;241m*\u001b[39margs, \u001b[38;5;241m*\u001b[39m\u001b[38;5;241m*\u001b[39mkwargs)\n",
      "File \u001b[1;32m~\\anaconda3\\lib\\site-packages\\gym\\envs\\classic_control\\cartpole.py:298\u001b[0m, in \u001b[0;36mCartPoleEnv.render\u001b[1;34m(self)\u001b[0m\n\u001b[0;32m    296\u001b[0m \u001b[38;5;28;01mif\u001b[39;00m \u001b[38;5;28mself\u001b[39m\u001b[38;5;241m.\u001b[39mrender_mode \u001b[38;5;241m==\u001b[39m \u001b[38;5;124m\"\u001b[39m\u001b[38;5;124mhuman\u001b[39m\u001b[38;5;124m\"\u001b[39m:\n\u001b[0;32m    297\u001b[0m     pygame\u001b[38;5;241m.\u001b[39mevent\u001b[38;5;241m.\u001b[39mpump()\n\u001b[1;32m--> 298\u001b[0m     \u001b[38;5;28;43mself\u001b[39;49m\u001b[38;5;241;43m.\u001b[39;49m\u001b[43mclock\u001b[49m\u001b[38;5;241;43m.\u001b[39;49m\u001b[43mtick\u001b[49m\u001b[43m(\u001b[49m\u001b[38;5;28;43mself\u001b[39;49m\u001b[38;5;241;43m.\u001b[39;49m\u001b[43mmetadata\u001b[49m\u001b[43m[\u001b[49m\u001b[38;5;124;43m\"\u001b[39;49m\u001b[38;5;124;43mrender_fps\u001b[39;49m\u001b[38;5;124;43m\"\u001b[39;49m\u001b[43m]\u001b[49m\u001b[43m)\u001b[49m\n\u001b[0;32m    299\u001b[0m     pygame\u001b[38;5;241m.\u001b[39mdisplay\u001b[38;5;241m.\u001b[39mflip()\n\u001b[0;32m    301\u001b[0m \u001b[38;5;28;01melif\u001b[39;00m \u001b[38;5;28mself\u001b[39m\u001b[38;5;241m.\u001b[39mrender_mode \u001b[38;5;241m==\u001b[39m \u001b[38;5;124m\"\u001b[39m\u001b[38;5;124mrgb_array\u001b[39m\u001b[38;5;124m\"\u001b[39m:\n",
      "\u001b[1;31mKeyboardInterrupt\u001b[0m: "
     ]
    }
   ],
   "source": [
    "import gym\n",
    "import random\n",
    "\n",
    "env = gym.make('CartPole-v0', render_mode='human')\n",
    "episodes = 10\n",
    "\n",
    "for episode in range(1, episodes + 1):\n",
    "    state = env.reset()\n",
    "    done = False\n",
    "    score = 0\n",
    "\n",
    "    while not done:\n",
    "        env.render()\n",
    "        action = random.choice([0, 1])\n",
    "        step_result = env.step(action)\n",
    "        \n",
    "        # Ensure proper handling of step_result\n",
    "        if isinstance(step_result, tuple) and len(step_result) >= 4:\n",
    "            n_state, reward, done, info = step_result[:4]\n",
    "        else:\n",
    "            # Handle unexpected return values\n",
    "            raise ValueError(\"Unexpected return values from env.step(action)\")\n",
    "\n",
    "        score += reward\n",
    "\n",
    "    print('Episode:{} Score:{}'.format(episode, score))\n",
    "\n",
    "env.close()\n"
   ]
  },
  {
   "cell_type": "code",
   "execution_count": null,
   "id": "69ad0e4b",
   "metadata": {},
   "outputs": [],
   "source": []
  },
  {
   "cell_type": "code",
   "execution_count": null,
   "id": "91a50783",
   "metadata": {},
   "outputs": [],
   "source": []
  },
  {
   "cell_type": "code",
   "execution_count": null,
   "id": "044cc498",
   "metadata": {},
   "outputs": [],
   "source": []
  },
  {
   "cell_type": "code",
   "execution_count": null,
   "id": "6ba4aafa",
   "metadata": {},
   "outputs": [],
   "source": []
  },
  {
   "cell_type": "code",
   "execution_count": null,
   "id": "c248decf",
   "metadata": {},
   "outputs": [],
   "source": []
  },
  {
   "cell_type": "code",
   "execution_count": null,
   "id": "e622f98f",
   "metadata": {},
   "outputs": [],
   "source": []
  }
 ],
 "metadata": {
  "kernelspec": {
   "display_name": "Python 3 (ipykernel)",
   "language": "python",
   "name": "python3"
  },
  "language_info": {
   "codemirror_mode": {
    "name": "ipython",
    "version": 3
   },
   "file_extension": ".py",
   "mimetype": "text/x-python",
   "name": "python",
   "nbconvert_exporter": "python",
   "pygments_lexer": "ipython3",
   "version": "3.9.16"
  }
 },
 "nbformat": 4,
 "nbformat_minor": 5
}
